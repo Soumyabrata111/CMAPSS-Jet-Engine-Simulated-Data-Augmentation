{
 "cells": [
  {
   "cell_type": "code",
   "execution_count": null,
   "metadata": {},
   "outputs": [],
   "source": [
    "import pandas as pd\n",
    "df_train_FD001 = pd.read_csv('train_FD001.csv', encoding='utf-8', low_memory=False)\n",
    "df_train_FD002 = pd.read_csv('train_FD002.csv', encoding='utf-8', low_memory=False)\n",
    "df_train_FD003 = pd.read_csv('train_FD003.csv', encoding='utf-8', low_memory=False)\n",
    "df_train_FD004 = pd.read_csv('train_FD004.csv', encoding='utf-8', low_memory=False)\n",
    "import matplotlib.pyplot as plt\n",
    "import scipy.stats as stats\n",
    "\n",
    "# Create a figure with subplots\n",
    "fig, axes = plt.subplots(3, 7, figsize=(20, 10))\n",
    "axes = axes.flatten()\n",
    "\n",
    "# Loop through each sensor measurement\n",
    "for i in range(21):\n",
    "    # Create Q-Q plot for the current sensor measurement\n",
    "    stats.probplot(df_train_FD001['sensor measurement ' + str(i + 1)], dist=\"norm\", plot=axes[i])\n",
    "    axes[i].set_title('Sensor Measurement ' + str(i + 1))\n",
    "\n",
    "# Add a title to the entire figure\n",
    "plt.suptitle('Q-Q Plots for Sensor Measurements of Train FD001', fontsize=16)\n",
    "\n",
    "# Adjust layout\n",
    "plt.tight_layout(rect=[0, 0, 1, 0.95])  # Make space for the main title\n",
    "plt.savefig('Q-Q Plots for Sensor Measurements of Train FD001.png',dpi=300)\n",
    "plt.show()"
   ]
  },
  {
   "cell_type": "code",
   "execution_count": null,
   "metadata": {},
   "outputs": [],
   "source": [
    "# Create a figure with subplots\n",
    "fig, axes = plt.subplots(3, 7, figsize=(20, 10))\n",
    "axes = axes.flatten()\n",
    "\n",
    "# Loop through each sensor measurement\n",
    "for i in range(21):\n",
    "    # Create Q-Q plot for the current sensor measurement\n",
    "    stats.probplot(df_train_FD002['sensor measurement ' + str(i + 1)], dist=\"norm\", plot=axes[i])\n",
    "    axes[i].set_title('Sensor Measurement ' + str(i + 1))\n",
    "\n",
    "# Add a title to the entire figure\n",
    "plt.suptitle('Q-Q Plots for Sensor Measurements of Train FD002', fontsize=16)\n",
    "\n",
    "# Adjust layout\n",
    "plt.tight_layout(rect=[0, 0, 1, 0.95])  # Make space for the main title\n",
    "plt.savefig('Q-Q Plots for Sensor Measurements of Train FD002.png',dpi=300)\n",
    "plt.show()"
   ]
  },
  {
   "cell_type": "code",
   "execution_count": null,
   "metadata": {},
   "outputs": [],
   "source": [
    "# Create a figure with subplots\n",
    "fig, axes = plt.subplots(3, 7, figsize=(20, 10))\n",
    "axes = axes.flatten()\n",
    "\n",
    "# Loop through each sensor measurement\n",
    "for i in range(21):\n",
    "    # Create Q-Q plot for the current sensor measurement\n",
    "    stats.probplot(df_train_FD003['sensor measurement ' + str(i + 1)], dist=\"norm\", plot=axes[i])\n",
    "    axes[i].set_title('Sensor Measurement ' + str(i + 1))\n",
    "\n",
    "# Add a title to the entire figure\n",
    "plt.suptitle('Q-Q Plots for Sensor Measurements of Train FD003', fontsize=16)\n",
    "\n",
    "# Adjust layout\n",
    "plt.tight_layout(rect=[0, 0, 1, 0.95])  # Make space for the main title\n",
    "plt.savefig('Q-Q Plots for Sensor Measurements of Train FD003.png',dpi=300)\n",
    "plt.show()"
   ]
  },
  {
   "cell_type": "code",
   "execution_count": null,
   "metadata": {},
   "outputs": [],
   "source": [
    "# Create a figure with subplots\n",
    "fig, axes = plt.subplots(3, 7, figsize=(20, 10))\n",
    "axes = axes.flatten()\n",
    "\n",
    "# Loop through each sensor measurement\n",
    "for i in range(21):\n",
    "    # Create Q-Q plot for the current sensor measurement\n",
    "    stats.probplot(df_train_FD004['sensor measurement ' + str(i + 1)], dist=\"norm\", plot=axes[i])\n",
    "    axes[i].set_title('Sensor Measurement ' + str(i + 1))\n",
    "\n",
    "# Add a title to the entire figure\n",
    "plt.suptitle('Q-Q Plots for Sensor Measurements of Train FD004', fontsize=16)\n",
    "\n",
    "# Adjust layout\n",
    "plt.tight_layout(rect=[0, 0, 1, 0.95])  # Make space for the main title\n",
    "plt.savefig('Q-Q Plots for Sensor Measurements of Train FD004.png',dpi=300)\n",
    "plt.show()"
   ]
  },
  {
   "cell_type": "code",
   "execution_count": null,
   "metadata": {},
   "outputs": [],
   "source": [
    "# Plot skewness and kurtosis of TRAIN_FD001\n",
    "skewness = df_train_FD001.skew()\n",
    "kurtosis = df_train_FD001.kurtosis()\n",
    "fig, axes = plt.subplots(2, 1, figsize=(10, 10))\n",
    "skewness.plot(kind='bar', ax=axes[0], color='blue')\n",
    "axes[0].set_title('Skewness of Sensor Measurements of Train FD001')\n",
    "kurtosis.plot(kind='bar', ax=axes[1], color='red')\n",
    "axes[1].set_title('Kurtosis of Sensor Measurements of Train FD001')\n",
    "plt.tight_layout()\n",
    "plt.savefig('Skewness and Kurtosis of Sensor Measurements of Train FD001.png',dpi=300)\n",
    "plt.show()"
   ]
  },
  {
   "cell_type": "code",
   "execution_count": null,
   "metadata": {},
   "outputs": [],
   "source": []
  }
 ],
 "metadata": {
  "kernelspec": {
   "display_name": "pyt_cpu",
   "language": "python",
   "name": "python3"
  },
  "language_info": {
   "codemirror_mode": {
    "name": "ipython",
    "version": 3
   },
   "file_extension": ".py",
   "mimetype": "text/x-python",
   "name": "python",
   "nbconvert_exporter": "python",
   "pygments_lexer": "ipython3",
   "version": "3.12.3"
  }
 },
 "nbformat": 4,
 "nbformat_minor": 2
}
