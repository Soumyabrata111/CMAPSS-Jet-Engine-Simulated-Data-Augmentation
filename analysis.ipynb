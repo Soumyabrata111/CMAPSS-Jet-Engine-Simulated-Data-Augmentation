{
 "cells": [
  {
   "cell_type": "code",
   "execution_count": 1,
   "metadata": {},
   "outputs": [],
   "source": [
    "import pandas as pd\n",
    "import numpy as np\n",
    "from sklearn.linear_model import LinearRegression\n",
    "from sklearn.metrics import mean_absolute_error, root_mean_squared_error  \n",
    "from sklearn.model_selection import train_test_split\n",
    "from sklearn.preprocessing import StandardScaler\n",
    "import joblib"
   ]
  },
  {
   "cell_type": "code",
   "execution_count": 2,
   "metadata": {},
   "outputs": [],
   "source": [
    "# Load the data\n",
    "train = pd.read_csv('train_FD004.csv', low_memory=False)"
   ]
  },
  {
   "cell_type": "code",
   "execution_count": 3,
   "metadata": {},
   "outputs": [
    {
     "name": "stdout",
     "output_type": "stream",
     "text": [
      "Top sensors selected based on Fisher score: ['sensor measurement 16', 'sensor measurement 10', 'sensor measurement 15', 'sensor measurement 11', 'sensor measurement 19', 'sensor measurement 14']\n"
     ]
    }
   ],
   "source": [
    "# Define a function to calculate Fisher score using first 50 and last 50 samples of each engine\n",
    "def fisher_score_sensor(df, sensor, start_cycles=50, end_cycles=50):\n",
    "    # Extract beginning of life (first 50 cycles) and end of life (last 50 cycles) samples\n",
    "    begin_life = df[df['time, in cycles'] <= start_cycles][sensor]\n",
    "    end_life = df[df['time, in cycles'] >= (df['time, in cycles'].max() - end_cycles + 1)][sensor]\n",
    "    \n",
    "    # Calculate the Fisher score for the sensor\n",
    "    mean_diff = abs(begin_life.mean() - end_life.mean())\n",
    "    within_var = begin_life.var() + end_life.var()\n",
    "    fisher_score = mean_diff / within_var\n",
    "    return fisher_score\n",
    "\n",
    "# Apply Fisher score calculation across each sensor\n",
    "sensor_columns = [col for col in train.columns if col.startswith('sensor')]\n",
    "fisher_scores = {sensor: fisher_score_sensor(train, sensor) for sensor in sensor_columns}\n",
    "\n",
    "# Select the top sensors based on Fisher scores\n",
    "top_sensors = sorted(fisher_scores, key=fisher_scores.get, reverse=True)[:6]  # adjust N as needed\n",
    "\n",
    "print(\"Top sensors selected based on Fisher score:\", top_sensors)"
   ]
  },
  {
   "cell_type": "code",
   "execution_count": 4,
   "metadata": {},
   "outputs": [
    {
     "data": {
      "text/plain": [
       "{'sensor measurement 1': np.float64(0.00027096688041915846),\n",
       " 'sensor measurement 2': np.float64(0.0008795484488569448),\n",
       " 'sensor measurement 3': np.float64(0.0009666748110904218),\n",
       " 'sensor measurement 4': np.float64(0.0008261329018411685),\n",
       " 'sensor measurement 5': np.float64(0.0016987683680191714),\n",
       " 'sensor measurement 6': np.float64(9.538825608326564e-05),\n",
       " 'sensor measurement 7': np.float64(0.00020888324490909727),\n",
       " 'sensor measurement 8': np.float64(0.0006157218587662951),\n",
       " 'sensor measurement 9': np.float64(0.00035922781652775046),\n",
       " 'sensor measurement 10': np.float64(0.6475512292574864),\n",
       " 'sensor measurement 11': np.float64(0.05240475644794676),\n",
       " 'sensor measurement 12': np.float64(0.0002248292184767426),\n",
       " 'sensor measurement 13': np.float64(0.0009301093625797129),\n",
       " 'sensor measurement 14': np.float64(0.0048030469459598366),\n",
       " 'sensor measurement 15': np.float64(0.3087389919722746),\n",
       " 'sensor measurement 16': np.float64(28.309157820238113),\n",
       " 'sensor measurement 17': np.float64(0.0035524424462960447),\n",
       " 'sensor measurement 18': np.float64(0.0005993271842634528),\n",
       " 'sensor measurement 19': np.float64(0.021659784028565655),\n",
       " 'sensor measurement 20': np.float64(0.0023093958477754663),\n",
       " 'sensor measurement 21': np.float64(0.0038532626805120717)}"
      ]
     },
     "execution_count": 4,
     "metadata": {},
     "output_type": "execute_result"
    }
   ],
   "source": [
    "fisher_scores"
   ]
  },
  {
   "cell_type": "code",
   "execution_count": 5,
   "metadata": {},
   "outputs": [
    {
     "name": "stdout",
     "output_type": "stream",
     "text": [
      "   unit number  time, in cycles  RUL\n",
      "0            1                1  320\n",
      "1            1                2  319\n",
      "2            1                3  318\n",
      "3            1                4  317\n",
      "4            1                5  316\n"
     ]
    }
   ],
   "source": [
    "# Calculate RUL for each engine\n",
    "grouped_by_engine = train.groupby('unit number')\n",
    "\n",
    "# Initialize the RUL column\n",
    "train['RUL'] = 0\n",
    "\n",
    "# Calculate RUL for each engine\n",
    "for name, group in grouped_by_engine:\n",
    "    max_cycle = group['time, in cycles'].max()\n",
    "    train.loc[train['unit number'] == name, 'RUL'] = max_cycle - group['time, in cycles']\n",
    "\n",
    "# Display a few rows to check\n",
    "print(train[['unit number', 'time, in cycles', 'RUL']].head())"
   ]
  },
  {
   "cell_type": "code",
   "execution_count": 6,
   "metadata": {},
   "outputs": [
    {
     "name": "stdout",
     "output_type": "stream",
     "text": [
      "RMSE: 74.48613865948836\n",
      "       True RUL  Predicted RUL\n",
      "0           179     134.658476\n",
      "1            76     146.565319\n",
      "2           205     204.078543\n",
      "3           170     162.451981\n",
      "4           127     189.581628\n",
      "...         ...            ...\n",
      "12245        98     117.053188\n",
      "12246       110     121.098028\n",
      "12247       184     142.254835\n",
      "12248       106     145.645389\n",
      "12249       235     149.992966\n",
      "\n",
      "[12250 rows x 2 columns]\n"
     ]
    }
   ],
   "source": [
    "from sklearn.linear_model import LinearRegression\n",
    "from sklearn.metrics import root_mean_squared_error\n",
    "from sklearn.model_selection import train_test_split\n",
    "from sklearn.preprocessing import StandardScaler\n",
    "\n",
    "# Prepare the data with only the top sensors\n",
    "X = train[top_sensors]\n",
    "y = train['RUL']\n",
    "\n",
    "# Split the data into train and test sets\n",
    "X_train, X_test, y_train, y_test = train_test_split(X, y, test_size=0.2, random_state=42)\n",
    "\n",
    "# Scale the data\n",
    "scaler = StandardScaler()\n",
    "X_train = scaler.fit_transform(X_train)\n",
    "X_test = scaler.transform(X_test)\n",
    "\n",
    "# Initialize and train the Linear Regression model\n",
    "model = LinearRegression()\n",
    "model.fit(X_train, y_train)\n",
    "\n",
    "# Make predictions\n",
    "y_pred = model.predict(X_test)\n",
    "\n",
    "# Calculate RMSE\n",
    "rmse = root_mean_squared_error(y_test, y_pred)\n",
    "print(f\"RMSE: {rmse}\")\n",
    "\n",
    "# Print RUL predictions for each engine in the test set\n",
    "engine_rul_predictions = pd.DataFrame({\n",
    "    'True RUL': y_test,\n",
    "    'Predicted RUL': y_pred\n",
    "})\n",
    "\n",
    "# Reset index for clearer display\n",
    "engine_rul_predictions = engine_rul_predictions.reset_index(drop=True)\n",
    "print(engine_rul_predictions)"
   ]
  },
  {
   "cell_type": "code",
   "execution_count": 7,
   "metadata": {},
   "outputs": [
    {
     "data": {
      "text/plain": [
       "['linear_regression_model.h5']"
      ]
     },
     "execution_count": 7,
     "metadata": {},
     "output_type": "execute_result"
    }
   ],
   "source": [
    "# Save the Linear Regression model as h5 file\n",
    "joblib.dump(model, 'linear_regression_model.h5')"
   ]
  },
  {
   "cell_type": "code",
   "execution_count": 8,
   "metadata": {},
   "outputs": [],
   "source": [
    "# Load the model, test_FD004 and test_FD004_RUL datasets\n",
    "model = joblib.load('linear_regression_model.h5')\n",
    "test = pd.read_csv('test_FD004.csv', low_memory=False)\n",
    "RUL = pd.read_csv('RUL_FD004.csv', low_memory=False)"
   ]
  },
  {
   "cell_type": "code",
   "execution_count": 9,
   "metadata": {},
   "outputs": [
    {
     "data": {
      "text/plain": [
       "((41214, 26), (248, 1))"
      ]
     },
     "execution_count": 9,
     "metadata": {},
     "output_type": "execute_result"
    }
   ],
   "source": [
    "test.shape, RUL.shape "
   ]
  },
  {
   "cell_type": "code",
   "execution_count": 10,
   "metadata": {},
   "outputs": [
    {
     "data": {
      "text/plain": [
       "(248, 26)"
      ]
     },
     "execution_count": 10,
     "metadata": {},
     "output_type": "execute_result"
    }
   ],
   "source": [
    "# Extract the last row of each engine in the test set\n",
    "test_last_cycle = test.groupby('unit number').last().reset_index()\n",
    "\n",
    "# Shape of the test_last_cycle\n",
    "test_last_cycle.shape"
   ]
  },
  {
   "cell_type": "code",
   "execution_count": 11,
   "metadata": {},
   "outputs": [
    {
     "data": {
      "text/html": [
       "<div>\n",
       "<style scoped>\n",
       "    .dataframe tbody tr th:only-of-type {\n",
       "        vertical-align: middle;\n",
       "    }\n",
       "\n",
       "    .dataframe tbody tr th {\n",
       "        vertical-align: top;\n",
       "    }\n",
       "\n",
       "    .dataframe thead th {\n",
       "        text-align: right;\n",
       "    }\n",
       "</style>\n",
       "<table border=\"1\" class=\"dataframe\">\n",
       "  <thead>\n",
       "    <tr style=\"text-align: right;\">\n",
       "      <th></th>\n",
       "      <th>unit number</th>\n",
       "      <th>time, in cycles</th>\n",
       "      <th>operational setting 1</th>\n",
       "      <th>operational setting 2</th>\n",
       "      <th>operational setting 3</th>\n",
       "      <th>sensor measurement 1</th>\n",
       "      <th>sensor measurement 2</th>\n",
       "      <th>sensor measurement 3</th>\n",
       "      <th>sensor measurement 4</th>\n",
       "      <th>sensor measurement 5</th>\n",
       "      <th>...</th>\n",
       "      <th>sensor measurement 13</th>\n",
       "      <th>sensor measurement 14</th>\n",
       "      <th>sensor measurement 15</th>\n",
       "      <th>sensor measurement 16</th>\n",
       "      <th>sensor measurement 17</th>\n",
       "      <th>sensor measurement 18</th>\n",
       "      <th>sensor measurement 19</th>\n",
       "      <th>sensor measurement 20</th>\n",
       "      <th>sensor measurement 21</th>\n",
       "      <th>RUL</th>\n",
       "    </tr>\n",
       "  </thead>\n",
       "  <tbody>\n",
       "    <tr>\n",
       "      <th>0</th>\n",
       "      <td>1</td>\n",
       "      <td>230</td>\n",
       "      <td>25.0070</td>\n",
       "      <td>0.6214</td>\n",
       "      <td>60</td>\n",
       "      <td>462.54</td>\n",
       "      <td>537.66</td>\n",
       "      <td>1264.31</td>\n",
       "      <td>1046.41</td>\n",
       "      <td>7.05</td>\n",
       "      <td>...</td>\n",
       "      <td>2028.53</td>\n",
       "      <td>7890.31</td>\n",
       "      <td>10.7615</td>\n",
       "      <td>0.02</td>\n",
       "      <td>308</td>\n",
       "      <td>1915</td>\n",
       "      <td>84.93</td>\n",
       "      <td>14.41</td>\n",
       "      <td>8.6329</td>\n",
       "      <td>22</td>\n",
       "    </tr>\n",
       "    <tr>\n",
       "      <th>1</th>\n",
       "      <td>2</td>\n",
       "      <td>153</td>\n",
       "      <td>41.9989</td>\n",
       "      <td>0.8400</td>\n",
       "      <td>100</td>\n",
       "      <td>445.00</td>\n",
       "      <td>549.96</td>\n",
       "      <td>1354.05</td>\n",
       "      <td>1133.55</td>\n",
       "      <td>3.91</td>\n",
       "      <td>...</td>\n",
       "      <td>2387.72</td>\n",
       "      <td>8073.44</td>\n",
       "      <td>9.3925</td>\n",
       "      <td>0.02</td>\n",
       "      <td>331</td>\n",
       "      <td>2212</td>\n",
       "      <td>100.00</td>\n",
       "      <td>10.58</td>\n",
       "      <td>6.4325</td>\n",
       "      <td>39</td>\n",
       "    </tr>\n",
       "    <tr>\n",
       "      <th>2</th>\n",
       "      <td>3</td>\n",
       "      <td>141</td>\n",
       "      <td>42.0005</td>\n",
       "      <td>0.8401</td>\n",
       "      <td>100</td>\n",
       "      <td>445.00</td>\n",
       "      <td>549.47</td>\n",
       "      <td>1341.06</td>\n",
       "      <td>1118.90</td>\n",
       "      <td>3.91</td>\n",
       "      <td>...</td>\n",
       "      <td>2388.18</td>\n",
       "      <td>8095.58</td>\n",
       "      <td>9.2974</td>\n",
       "      <td>0.02</td>\n",
       "      <td>330</td>\n",
       "      <td>2212</td>\n",
       "      <td>100.00</td>\n",
       "      <td>10.61</td>\n",
       "      <td>6.3488</td>\n",
       "      <td>107</td>\n",
       "    </tr>\n",
       "    <tr>\n",
       "      <th>3</th>\n",
       "      <td>4</td>\n",
       "      <td>208</td>\n",
       "      <td>25.0018</td>\n",
       "      <td>0.6207</td>\n",
       "      <td>60</td>\n",
       "      <td>462.54</td>\n",
       "      <td>536.06</td>\n",
       "      <td>1253.49</td>\n",
       "      <td>1038.53</td>\n",
       "      <td>7.05</td>\n",
       "      <td>...</td>\n",
       "      <td>2028.30</td>\n",
       "      <td>7878.63</td>\n",
       "      <td>10.8396</td>\n",
       "      <td>0.02</td>\n",
       "      <td>306</td>\n",
       "      <td>1915</td>\n",
       "      <td>84.93</td>\n",
       "      <td>14.41</td>\n",
       "      <td>8.5696</td>\n",
       "      <td>75</td>\n",
       "    </tr>\n",
       "    <tr>\n",
       "      <th>4</th>\n",
       "      <td>5</td>\n",
       "      <td>51</td>\n",
       "      <td>25.0039</td>\n",
       "      <td>0.6200</td>\n",
       "      <td>60</td>\n",
       "      <td>462.54</td>\n",
       "      <td>537.36</td>\n",
       "      <td>1263.60</td>\n",
       "      <td>1052.52</td>\n",
       "      <td>7.05</td>\n",
       "      <td>...</td>\n",
       "      <td>2028.24</td>\n",
       "      <td>7873.75</td>\n",
       "      <td>10.9094</td>\n",
       "      <td>0.02</td>\n",
       "      <td>307</td>\n",
       "      <td>1915</td>\n",
       "      <td>84.93</td>\n",
       "      <td>14.19</td>\n",
       "      <td>8.6248</td>\n",
       "      <td>149</td>\n",
       "    </tr>\n",
       "  </tbody>\n",
       "</table>\n",
       "<p>5 rows × 27 columns</p>\n",
       "</div>"
      ],
      "text/plain": [
       "   unit number  time, in cycles  operational setting 1  operational setting 2  \\\n",
       "0            1              230                25.0070                 0.6214   \n",
       "1            2              153                41.9989                 0.8400   \n",
       "2            3              141                42.0005                 0.8401   \n",
       "3            4              208                25.0018                 0.6207   \n",
       "4            5               51                25.0039                 0.6200   \n",
       "\n",
       "   operational setting 3  sensor measurement 1  sensor measurement 2  \\\n",
       "0                     60                462.54                537.66   \n",
       "1                    100                445.00                549.96   \n",
       "2                    100                445.00                549.47   \n",
       "3                     60                462.54                536.06   \n",
       "4                     60                462.54                537.36   \n",
       "\n",
       "   sensor measurement 3  sensor measurement 4  sensor measurement 5  ...  \\\n",
       "0               1264.31               1046.41                  7.05  ...   \n",
       "1               1354.05               1133.55                  3.91  ...   \n",
       "2               1341.06               1118.90                  3.91  ...   \n",
       "3               1253.49               1038.53                  7.05  ...   \n",
       "4               1263.60               1052.52                  7.05  ...   \n",
       "\n",
       "   sensor measurement 13  sensor measurement 14  sensor measurement 15  \\\n",
       "0                2028.53                7890.31                10.7615   \n",
       "1                2387.72                8073.44                 9.3925   \n",
       "2                2388.18                8095.58                 9.2974   \n",
       "3                2028.30                7878.63                10.8396   \n",
       "4                2028.24                7873.75                10.9094   \n",
       "\n",
       "   sensor measurement 16  sensor measurement 17  sensor measurement 18  \\\n",
       "0                   0.02                    308                   1915   \n",
       "1                   0.02                    331                   2212   \n",
       "2                   0.02                    330                   2212   \n",
       "3                   0.02                    306                   1915   \n",
       "4                   0.02                    307                   1915   \n",
       "\n",
       "   sensor measurement 19  sensor measurement 20  sensor measurement 21  RUL  \n",
       "0                  84.93                  14.41                 8.6329   22  \n",
       "1                 100.00                  10.58                 6.4325   39  \n",
       "2                 100.00                  10.61                 6.3488  107  \n",
       "3                  84.93                  14.41                 8.5696   75  \n",
       "4                  84.93                  14.19                 8.6248  149  \n",
       "\n",
       "[5 rows x 27 columns]"
      ]
     },
     "execution_count": 11,
     "metadata": {},
     "output_type": "execute_result"
    }
   ],
   "source": [
    "# Concatenate the test_last_cycle with the RUL dataset\n",
    "test_last_cycle = pd.concat([test_last_cycle, RUL], axis=1)\n",
    "test_last_cycle.head()"
   ]
  },
  {
   "cell_type": "code",
   "execution_count": 12,
   "metadata": {},
   "outputs": [
    {
     "data": {
      "text/plain": [
       "(248, 27)"
      ]
     },
     "execution_count": 12,
     "metadata": {},
     "output_type": "execute_result"
    }
   ],
   "source": [
    "test_last_cycle.shape"
   ]
  },
  {
   "cell_type": "code",
   "execution_count": 13,
   "metadata": {},
   "outputs": [
    {
     "name": "stdout",
     "output_type": "stream",
     "text": [
      "     unit number  RUL  Predicted RUL\n",
      "0              1   22     113.793939\n",
      "1              2   39     126.468956\n",
      "2              3  107     117.539487\n",
      "3              4   75     142.060327\n",
      "4              5  149     110.997716\n",
      "..           ...  ...            ...\n",
      "243          244   35      41.449154\n",
      "244          245  131     152.901124\n",
      "245          246  194     172.380927\n",
      "246          247  112     100.743529\n",
      "247          248   26      77.622697\n",
      "\n",
      "[248 rows x 3 columns]\n"
     ]
    }
   ],
   "source": [
    "# Calculate the RUL for each engine in the test set using the Linear Regression model\n",
    "X_test_last_cycle = test_last_cycle[top_sensors]\n",
    "X_test_last_cycle = scaler.transform(X_test_last_cycle)\n",
    "test_last_cycle['Predicted RUL'] = model.predict(X_test_last_cycle)\n",
    "\n",
    "# Display the RUL predictions\n",
    "print(test_last_cycle[['unit number', 'RUL', 'Predicted RUL']])"
   ]
  },
  {
   "cell_type": "code",
   "execution_count": 14,
   "metadata": {},
   "outputs": [
    {
     "name": "stdout",
     "output_type": "stream",
     "text": [
      "RMSE: 61.61085018466975\n"
     ]
    }
   ],
   "source": [
    "# Calculate RMSE for the RUL predictions\n",
    "rmse = root_mean_squared_error(test_last_cycle['RUL'], test_last_cycle['Predicted RUL'])\n",
    "print(f\"RMSE: {rmse}\")"
   ]
  }
 ],
 "metadata": {
  "kernelspec": {
   "display_name": "pytc",
   "language": "python",
   "name": "python3"
  },
  "language_info": {
   "codemirror_mode": {
    "name": "ipython",
    "version": 3
   },
   "file_extension": ".py",
   "mimetype": "text/x-python",
   "name": "python",
   "nbconvert_exporter": "python",
   "pygments_lexer": "ipython3",
   "version": "3.12.3"
  }
 },
 "nbformat": 4,
 "nbformat_minor": 2
}
